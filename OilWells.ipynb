{
  "metadata": {
    "kernelspec": {
      "name": "python",
      "display_name": "Python (Pyodide)",
      "language": "python"
    },
    "language_info": {
      "codemirror_mode": {
        "name": "python",
        "version": 3
      },
      "file_extension": ".py",
      "mimetype": "text/x-python",
      "name": "python",
      "nbconvert_exporter": "python",
      "pygments_lexer": "ipython3",
      "version": "3.8"
    },
    "ExecuteTimeLog": [
      {
        "duration": 1736,
        "start_time": "2024-07-31T17:47:01.097Z"
      },
      {
        "duration": 154,
        "start_time": "2024-07-31T17:47:03.318Z"
      },
      {
        "duration": 208,
        "start_time": "2024-07-31T17:47:41.728Z"
      },
      {
        "duration": 190,
        "start_time": "2024-07-31T17:48:15.840Z"
      },
      {
        "duration": 487,
        "start_time": "2024-07-31T17:53:14.466Z"
      },
      {
        "duration": 4521,
        "start_time": "2024-07-31T17:53:37.774Z"
      },
      {
        "duration": 215,
        "start_time": "2024-07-31T17:53:42.299Z"
      },
      {
        "duration": 2337,
        "start_time": "2024-07-31T17:53:42.517Z"
      },
      {
        "duration": 318,
        "start_time": "2024-08-03T13:32:43.358Z"
      },
      {
        "duration": 5875,
        "start_time": "2024-08-03T13:32:47.854Z"
      },
      {
        "duration": 224,
        "start_time": "2024-08-03T13:32:53.732Z"
      },
      {
        "duration": 159,
        "start_time": "2024-08-03T13:32:53.959Z"
      },
      {
        "duration": 44,
        "start_time": "2024-08-03T13:33:36.542Z"
      },
      {
        "duration": 403,
        "start_time": "2024-08-03T13:34:59.924Z"
      },
      {
        "duration": 197,
        "start_time": "2024-08-03T13:35:02.235Z"
      },
      {
        "duration": 32,
        "start_time": "2024-08-03T13:35:03.466Z"
      },
      {
        "duration": 1395,
        "start_time": "2024-08-03T13:38:21.353Z"
      },
      {
        "duration": 31,
        "start_time": "2024-08-03T13:38:22.867Z"
      },
      {
        "duration": 1899,
        "start_time": "2024-08-03T13:38:55.278Z"
      },
      {
        "duration": 226,
        "start_time": "2024-08-03T13:38:57.181Z"
      },
      {
        "duration": 32,
        "start_time": "2024-08-03T13:38:57.411Z"
      },
      {
        "duration": 1853,
        "start_time": "2024-08-03T13:38:57.448Z"
      },
      {
        "duration": 0,
        "start_time": "2024-08-03T13:38:59.305Z"
      },
      {
        "duration": 0,
        "start_time": "2024-08-03T13:38:59.307Z"
      },
      {
        "duration": 0,
        "start_time": "2024-08-03T13:38:59.310Z"
      },
      {
        "duration": 210,
        "start_time": "2024-08-03T13:40:34.909Z"
      },
      {
        "duration": 61,
        "start_time": "2024-08-03T13:43:05.730Z"
      },
      {
        "duration": 84,
        "start_time": "2024-08-03T13:43:22.618Z"
      },
      {
        "duration": 30,
        "start_time": "2024-08-03T13:43:23.672Z"
      },
      {
        "duration": 9,
        "start_time": "2024-08-03T13:43:30.894Z"
      },
      {
        "duration": 8,
        "start_time": "2024-08-03T13:49:03.345Z"
      },
      {
        "duration": 10,
        "start_time": "2024-08-03T13:49:35.446Z"
      },
      {
        "duration": 10,
        "start_time": "2024-08-03T13:49:59.296Z"
      },
      {
        "duration": 10,
        "start_time": "2024-08-03T13:50:24.820Z"
      },
      {
        "duration": 39,
        "start_time": "2024-08-03T13:53:51.522Z"
      },
      {
        "duration": 17,
        "start_time": "2024-08-03T13:53:57.106Z"
      },
      {
        "duration": 5,
        "start_time": "2024-08-03T13:54:00.333Z"
      },
      {
        "duration": 9,
        "start_time": "2024-08-03T13:54:50.319Z"
      },
      {
        "duration": 10,
        "start_time": "2024-08-03T13:58:26.397Z"
      },
      {
        "duration": 6,
        "start_time": "2024-08-03T13:58:28.413Z"
      },
      {
        "duration": 15,
        "start_time": "2024-08-03T13:58:30.065Z"
      },
      {
        "duration": 6,
        "start_time": "2024-08-03T13:58:31.268Z"
      },
      {
        "duration": 206,
        "start_time": "2024-08-03T14:01:12.709Z"
      },
      {
        "duration": 31,
        "start_time": "2024-08-03T14:06:56.796Z"
      },
      {
        "duration": 1877,
        "start_time": "2024-08-03T14:07:12.512Z"
      },
      {
        "duration": 224,
        "start_time": "2024-08-03T14:07:14.394Z"
      },
      {
        "duration": 33,
        "start_time": "2024-08-03T14:07:14.621Z"
      },
      {
        "duration": 92,
        "start_time": "2024-08-03T14:07:14.657Z"
      },
      {
        "duration": 60,
        "start_time": "2024-08-03T14:07:14.753Z"
      },
      {
        "duration": 102,
        "start_time": "2024-08-03T14:07:14.817Z"
      },
      {
        "duration": 91,
        "start_time": "2024-08-03T14:07:14.922Z"
      },
      {
        "duration": 506,
        "start_time": "2024-08-03T14:07:15.016Z"
      },
      {
        "duration": 0,
        "start_time": "2024-08-03T14:07:15.525Z"
      },
      {
        "duration": 0,
        "start_time": "2024-08-03T14:07:15.528Z"
      },
      {
        "duration": 0,
        "start_time": "2024-08-03T14:07:15.531Z"
      },
      {
        "duration": 173,
        "start_time": "2024-08-03T14:14:48.249Z"
      },
      {
        "duration": 8,
        "start_time": "2024-08-03T14:15:06.914Z"
      },
      {
        "duration": 28,
        "start_time": "2024-08-03T14:15:19.929Z"
      },
      {
        "duration": 200,
        "start_time": "2024-08-03T14:15:40.118Z"
      },
      {
        "duration": 8,
        "start_time": "2024-08-03T14:15:41.084Z"
      },
      {
        "duration": 25,
        "start_time": "2024-08-03T14:15:42.073Z"
      },
      {
        "duration": 8,
        "start_time": "2024-08-03T14:19:31.412Z"
      },
      {
        "duration": 5,
        "start_time": "2024-08-03T14:20:04.046Z"
      },
      {
        "duration": 4,
        "start_time": "2024-08-03T14:20:47.351Z"
      },
      {
        "duration": 14,
        "start_time": "2024-08-03T14:21:02.554Z"
      },
      {
        "duration": 6,
        "start_time": "2024-08-03T14:21:27.463Z"
      },
      {
        "duration": 6,
        "start_time": "2024-08-03T14:21:43.022Z"
      },
      {
        "duration": 8648,
        "start_time": "2024-08-03T14:21:49.305Z"
      },
      {
        "duration": 5,
        "start_time": "2024-08-03T14:24:42.646Z"
      },
      {
        "duration": 6,
        "start_time": "2024-08-03T14:24:46.685Z"
      },
      {
        "duration": 13,
        "start_time": "2024-08-03T14:25:13.887Z"
      },
      {
        "duration": 593,
        "start_time": "2024-08-03T14:28:02.243Z"
      },
      {
        "duration": 866,
        "start_time": "2024-08-03T14:28:39.359Z"
      },
      {
        "duration": 11,
        "start_time": "2024-08-03T14:28:49.063Z"
      },
      {
        "duration": 1838,
        "start_time": "2024-08-03T14:28:59.245Z"
      },
      {
        "duration": 217,
        "start_time": "2024-08-03T14:29:01.086Z"
      },
      {
        "duration": 31,
        "start_time": "2024-08-03T14:29:01.307Z"
      },
      {
        "duration": 92,
        "start_time": "2024-08-03T14:29:01.343Z"
      },
      {
        "duration": 73,
        "start_time": "2024-08-03T14:29:01.439Z"
      },
      {
        "duration": 105,
        "start_time": "2024-08-03T14:29:01.516Z"
      },
      {
        "duration": 301,
        "start_time": "2024-08-03T14:29:01.624Z"
      },
      {
        "duration": 13,
        "start_time": "2024-08-03T14:29:02.007Z"
      },
      {
        "duration": 5,
        "start_time": "2024-08-03T14:29:02.103Z"
      },
      {
        "duration": 15,
        "start_time": "2024-08-03T14:29:02.115Z"
      },
      {
        "duration": 6,
        "start_time": "2024-08-03T14:29:02.133Z"
      },
      {
        "duration": 8721,
        "start_time": "2024-08-03T14:29:02.142Z"
      },
      {
        "duration": 677,
        "start_time": "2024-08-03T14:29:10.868Z"
      },
      {
        "duration": 8,
        "start_time": "2024-08-03T14:29:11.548Z"
      },
      {
        "duration": 6,
        "start_time": "2024-08-03T14:30:18.829Z"
      },
      {
        "duration": 7,
        "start_time": "2024-08-03T14:31:56.379Z"
      },
      {
        "duration": 8,
        "start_time": "2024-08-03T14:32:02.699Z"
      },
      {
        "duration": 1814,
        "start_time": "2024-08-03T14:32:18.133Z"
      },
      {
        "duration": 225,
        "start_time": "2024-08-03T14:32:19.951Z"
      },
      {
        "duration": 45,
        "start_time": "2024-08-03T14:32:20.178Z"
      },
      {
        "duration": 88,
        "start_time": "2024-08-03T14:32:20.227Z"
      },
      {
        "duration": 86,
        "start_time": "2024-08-03T14:32:20.320Z"
      },
      {
        "duration": 101,
        "start_time": "2024-08-03T14:32:20.409Z"
      },
      {
        "duration": 304,
        "start_time": "2024-08-03T14:32:20.513Z"
      },
      {
        "duration": 86,
        "start_time": "2024-08-03T14:32:20.821Z"
      },
      {
        "duration": 5,
        "start_time": "2024-08-03T14:32:20.910Z"
      },
      {
        "duration": 92,
        "start_time": "2024-08-03T14:32:20.918Z"
      },
      {
        "duration": 6,
        "start_time": "2024-08-03T14:32:21.013Z"
      },
      {
        "duration": 8767,
        "start_time": "2024-08-03T14:32:21.022Z"
      },
      {
        "duration": 649,
        "start_time": "2024-08-03T14:32:29.791Z"
      },
      {
        "duration": 7,
        "start_time": "2024-08-03T14:32:30.445Z"
      },
      {
        "duration": 13,
        "start_time": "2024-08-03T14:33:04.610Z"
      },
      {
        "duration": 1891,
        "start_time": "2024-08-03T14:42:17.094Z"
      },
      {
        "duration": 224,
        "start_time": "2024-08-03T14:42:18.990Z"
      },
      {
        "duration": 33,
        "start_time": "2024-08-03T14:42:19.217Z"
      },
      {
        "duration": 93,
        "start_time": "2024-08-03T14:42:19.253Z"
      },
      {
        "duration": 65,
        "start_time": "2024-08-03T14:42:19.350Z"
      },
      {
        "duration": 103,
        "start_time": "2024-08-03T14:42:19.419Z"
      },
      {
        "duration": 214,
        "start_time": "2024-08-03T14:42:19.602Z"
      },
      {
        "duration": 85,
        "start_time": "2024-08-03T14:42:19.818Z"
      },
      {
        "duration": 7,
        "start_time": "2024-08-03T14:42:19.906Z"
      },
      {
        "duration": 90,
        "start_time": "2024-08-03T14:42:19.921Z"
      },
      {
        "duration": 7,
        "start_time": "2024-08-03T14:42:20.014Z"
      },
      {
        "duration": 8765,
        "start_time": "2024-08-03T14:42:20.025Z"
      },
      {
        "duration": 669,
        "start_time": "2024-08-03T14:42:28.792Z"
      },
      {
        "duration": 33,
        "start_time": "2024-08-03T14:42:29.468Z"
      },
      {
        "duration": 339,
        "start_time": "2024-08-03T17:21:33.797Z"
      },
      {
        "duration": 5621,
        "start_time": "2024-08-03T17:21:47.724Z"
      },
      {
        "duration": 242,
        "start_time": "2024-08-03T17:21:53.351Z"
      },
      {
        "duration": 221,
        "start_time": "2024-08-03T17:21:53.596Z"
      },
      {
        "duration": 254,
        "start_time": "2024-08-03T17:22:22.687Z"
      },
      {
        "duration": 216,
        "start_time": "2024-08-03T17:34:23.686Z"
      },
      {
        "duration": 217,
        "start_time": "2024-08-03T17:36:28.426Z"
      },
      {
        "duration": 342,
        "start_time": "2024-08-03T17:37:14.751Z"
      },
      {
        "duration": 630,
        "start_time": "2024-08-03T17:40:34.584Z"
      },
      {
        "duration": 541,
        "start_time": "2024-08-03T17:41:49.427Z"
      },
      {
        "duration": 46,
        "start_time": "2024-08-03T17:42:44.652Z"
      },
      {
        "duration": 43,
        "start_time": "2024-08-03T17:42:51.073Z"
      },
      {
        "duration": 43,
        "start_time": "2024-08-03T17:43:02.231Z"
      },
      {
        "duration": 551,
        "start_time": "2024-08-03T17:43:16.221Z"
      },
      {
        "duration": 53,
        "start_time": "2024-08-03T17:43:18.238Z"
      },
      {
        "duration": 40,
        "start_time": "2024-08-03T17:43:19.819Z"
      },
      {
        "duration": 399,
        "start_time": "2024-08-03T17:45:59.222Z"
      },
      {
        "duration": 185,
        "start_time": "2024-08-03T17:46:01.266Z"
      },
      {
        "duration": 420,
        "start_time": "2024-08-03T17:46:40.622Z"
      },
      {
        "duration": 426,
        "start_time": "2024-08-03T17:49:31.584Z"
      },
      {
        "duration": 408,
        "start_time": "2024-08-03T17:51:49.025Z"
      },
      {
        "duration": 123,
        "start_time": "2024-08-03T17:52:40.584Z"
      },
      {
        "duration": 1865,
        "start_time": "2024-08-03T17:52:56.768Z"
      },
      {
        "duration": 202,
        "start_time": "2024-08-03T17:52:58.638Z"
      },
      {
        "duration": 448,
        "start_time": "2024-08-03T17:52:58.843Z"
      },
      {
        "duration": 137,
        "start_time": "2024-08-03T17:52:59.294Z"
      },
      {
        "duration": 634,
        "start_time": "2024-08-03T17:52:59.434Z"
      },
      {
        "duration": 40,
        "start_time": "2024-08-03T17:53:00.072Z"
      },
      {
        "duration": 69,
        "start_time": "2024-08-03T17:53:00.115Z"
      },
      {
        "duration": 52,
        "start_time": "2024-08-03T17:53:00.187Z"
      },
      {
        "duration": 52,
        "start_time": "2024-08-03T17:53:00.242Z"
      },
      {
        "duration": 103,
        "start_time": "2024-08-03T17:53:00.371Z"
      },
      {
        "duration": 204,
        "start_time": "2024-08-03T17:53:00.477Z"
      },
      {
        "duration": 85,
        "start_time": "2024-08-03T17:53:00.683Z"
      },
      {
        "duration": 5,
        "start_time": "2024-08-03T17:53:00.771Z"
      },
      {
        "duration": 26,
        "start_time": "2024-08-03T17:53:00.780Z"
      },
      {
        "duration": 6,
        "start_time": "2024-08-03T17:53:00.867Z"
      },
      {
        "duration": 7908,
        "start_time": "2024-08-03T17:53:00.877Z"
      },
      {
        "duration": 556,
        "start_time": "2024-08-03T17:53:08.788Z"
      },
      {
        "duration": 21,
        "start_time": "2024-08-03T17:53:09.347Z"
      },
      {
        "duration": 118,
        "start_time": "2024-08-03T17:53:52.094Z"
      },
      {
        "duration": 244,
        "start_time": "2024-08-03T17:54:21.268Z"
      },
      {
        "duration": 1793,
        "start_time": "2024-08-03T17:55:00.280Z"
      },
      {
        "duration": 210,
        "start_time": "2024-08-03T17:55:02.077Z"
      },
      {
        "duration": 256,
        "start_time": "2024-08-03T17:55:02.290Z"
      },
      {
        "duration": 131,
        "start_time": "2024-08-03T17:55:02.550Z"
      },
      {
        "duration": 626,
        "start_time": "2024-08-03T17:55:02.684Z"
      },
      {
        "duration": 39,
        "start_time": "2024-08-03T17:55:03.315Z"
      },
      {
        "duration": 40,
        "start_time": "2024-08-03T17:55:03.368Z"
      },
      {
        "duration": 76,
        "start_time": "2024-08-03T17:55:03.411Z"
      },
      {
        "duration": 82,
        "start_time": "2024-08-03T17:55:03.490Z"
      },
      {
        "duration": 99,
        "start_time": "2024-08-03T17:55:03.577Z"
      },
      {
        "duration": 297,
        "start_time": "2024-08-03T17:55:03.679Z"
      },
      {
        "duration": 8,
        "start_time": "2024-08-03T17:55:03.979Z"
      },
      {
        "duration": 79,
        "start_time": "2024-08-03T17:55:03.990Z"
      },
      {
        "duration": 96,
        "start_time": "2024-08-03T17:55:04.072Z"
      },
      {
        "duration": 7,
        "start_time": "2024-08-03T17:55:04.172Z"
      },
      {
        "duration": 7900,
        "start_time": "2024-08-03T17:55:04.183Z"
      },
      {
        "duration": 575,
        "start_time": "2024-08-03T17:55:12.086Z"
      },
      {
        "duration": 10,
        "start_time": "2024-08-03T17:55:12.663Z"
      },
      {
        "duration": 769,
        "start_time": "2024-08-03T17:55:40.744Z"
      },
      {
        "duration": 862,
        "start_time": "2024-08-03T17:56:49.306Z"
      },
      {
        "duration": 786,
        "start_time": "2024-08-03T17:58:22.055Z"
      },
      {
        "duration": 772,
        "start_time": "2024-08-03T17:58:29.443Z"
      },
      {
        "duration": 793,
        "start_time": "2024-08-03T17:58:51.746Z"
      },
      {
        "duration": 896,
        "start_time": "2024-08-03T17:59:00.419Z"
      },
      {
        "duration": 794,
        "start_time": "2024-08-03T17:59:21.943Z"
      },
      {
        "duration": 413,
        "start_time": "2024-08-03T18:08:28.186Z"
      },
      {
        "duration": 77,
        "start_time": "2024-08-03T18:09:18.986Z"
      },
      {
        "duration": 11,
        "start_time": "2024-08-03T18:17:23.525Z"
      },
      {
        "duration": 187,
        "start_time": "2024-08-03T18:22:49.351Z"
      },
      {
        "duration": 196,
        "start_time": "2024-08-03T18:24:11.826Z"
      },
      {
        "duration": 237,
        "start_time": "2024-08-03T18:24:12.715Z"
      },
      {
        "duration": 114,
        "start_time": "2024-08-03T18:24:13.147Z"
      },
      {
        "duration": 803,
        "start_time": "2024-08-03T18:24:18.641Z"
      },
      {
        "duration": 71,
        "start_time": "2024-08-03T18:24:20.775Z"
      },
      {
        "duration": 20,
        "start_time": "2024-08-03T18:24:23.462Z"
      },
      {
        "duration": 25,
        "start_time": "2024-08-03T18:24:25.170Z"
      },
      {
        "duration": 208,
        "start_time": "2024-08-03T18:24:26.565Z"
      },
      {
        "duration": 114,
        "start_time": "2024-08-03T18:25:42.215Z"
      },
      {
        "duration": 780,
        "start_time": "2024-08-03T18:25:49.091Z"
      },
      {
        "duration": 74,
        "start_time": "2024-08-03T18:26:00.036Z"
      },
      {
        "duration": 24,
        "start_time": "2024-08-03T18:26:08.637Z"
      },
      {
        "duration": 24,
        "start_time": "2024-08-03T18:26:10.489Z"
      },
      {
        "duration": 544,
        "start_time": "2024-08-03T18:30:59.560Z"
      },
      {
        "duration": 1803,
        "start_time": "2024-08-03T18:31:25.324Z"
      },
      {
        "duration": 5,
        "start_time": "2024-08-03T18:31:50.136Z"
      },
      {
        "duration": 7944,
        "start_time": "2024-08-03T18:31:51.906Z"
      },
      {
        "duration": 9,
        "start_time": "2024-08-03T18:36:27.359Z"
      },
      {
        "duration": 7940,
        "start_time": "2024-08-03T18:49:00.572Z"
      },
      {
        "duration": 1814,
        "start_time": "2024-08-03T18:50:55.503Z"
      },
      {
        "duration": 213,
        "start_time": "2024-08-03T18:50:57.321Z"
      },
      {
        "duration": 271,
        "start_time": "2024-08-03T18:50:57.537Z"
      },
      {
        "duration": 154,
        "start_time": "2024-08-03T18:50:57.811Z"
      },
      {
        "duration": 892,
        "start_time": "2024-08-03T18:50:57.976Z"
      },
      {
        "duration": 97,
        "start_time": "2024-08-03T18:50:58.871Z"
      },
      {
        "duration": 24,
        "start_time": "2024-08-03T18:50:58.971Z"
      },
      {
        "duration": 171,
        "start_time": "2024-08-03T18:50:58.998Z"
      },
      {
        "duration": 439,
        "start_time": "2024-08-03T18:50:59.172Z"
      },
      {
        "duration": 0,
        "start_time": "2024-08-03T18:50:59.614Z"
      },
      {
        "duration": 0,
        "start_time": "2024-08-03T18:50:59.619Z"
      },
      {
        "duration": 0,
        "start_time": "2024-08-03T18:50:59.621Z"
      },
      {
        "duration": 0,
        "start_time": "2024-08-03T18:50:59.624Z"
      },
      {
        "duration": 0,
        "start_time": "2024-08-03T18:50:59.626Z"
      },
      {
        "duration": 0,
        "start_time": "2024-08-03T18:50:59.627Z"
      },
      {
        "duration": 9,
        "start_time": "2024-08-03T18:53:33.130Z"
      },
      {
        "duration": 1906,
        "start_time": "2024-08-03T18:53:42.917Z"
      },
      {
        "duration": 267,
        "start_time": "2024-08-03T18:53:44.826Z"
      },
      {
        "duration": 277,
        "start_time": "2024-08-03T18:53:45.097Z"
      },
      {
        "duration": 153,
        "start_time": "2024-08-03T18:53:45.379Z"
      },
      {
        "duration": 927,
        "start_time": "2024-08-03T18:53:45.535Z"
      },
      {
        "duration": 83,
        "start_time": "2024-08-03T18:53:46.468Z"
      },
      {
        "duration": 31,
        "start_time": "2024-08-03T18:53:46.555Z"
      },
      {
        "duration": 98,
        "start_time": "2024-08-03T18:53:46.589Z"
      },
      {
        "duration": 10,
        "start_time": "2024-08-03T18:53:46.767Z"
      },
      {
        "duration": 439,
        "start_time": "2024-08-03T18:53:46.782Z"
      },
      {
        "duration": 0,
        "start_time": "2024-08-03T18:53:47.224Z"
      },
      {
        "duration": 0,
        "start_time": "2024-08-03T18:53:47.225Z"
      },
      {
        "duration": 0,
        "start_time": "2024-08-03T18:53:47.227Z"
      },
      {
        "duration": 0,
        "start_time": "2024-08-03T18:53:47.229Z"
      },
      {
        "duration": 0,
        "start_time": "2024-08-03T18:53:47.231Z"
      },
      {
        "duration": 8,
        "start_time": "2024-08-03T18:57:45.888Z"
      },
      {
        "duration": 5,
        "start_time": "2024-08-03T18:58:05.971Z"
      },
      {
        "duration": 30,
        "start_time": "2024-08-03T18:58:07.761Z"
      },
      {
        "duration": 1753,
        "start_time": "2024-08-03T18:58:30.071Z"
      },
      {
        "duration": 204,
        "start_time": "2024-08-03T18:58:31.828Z"
      },
      {
        "duration": 271,
        "start_time": "2024-08-03T18:58:32.035Z"
      },
      {
        "duration": 129,
        "start_time": "2024-08-03T18:58:32.309Z"
      },
      {
        "duration": 865,
        "start_time": "2024-08-03T18:58:32.442Z"
      },
      {
        "duration": 94,
        "start_time": "2024-08-03T18:58:33.310Z"
      },
      {
        "duration": 61,
        "start_time": "2024-08-03T18:58:33.407Z"
      },
      {
        "duration": 100,
        "start_time": "2024-08-03T18:58:33.472Z"
      },
      {
        "duration": 10,
        "start_time": "2024-08-03T18:58:33.575Z"
      },
      {
        "duration": 8,
        "start_time": "2024-08-03T18:58:33.588Z"
      },
      {
        "duration": 5,
        "start_time": "2024-08-03T18:58:33.600Z"
      },
      {
        "duration": 435,
        "start_time": "2024-08-03T18:58:33.668Z"
      },
      {
        "duration": 0,
        "start_time": "2024-08-03T18:58:34.106Z"
      },
      {
        "duration": 0,
        "start_time": "2024-08-03T18:58:34.108Z"
      },
      {
        "duration": 1,
        "start_time": "2024-08-03T18:58:34.109Z"
      },
      {
        "duration": 14,
        "start_time": "2024-08-03T18:59:53.191Z"
      },
      {
        "duration": 5,
        "start_time": "2024-08-03T19:00:05.978Z"
      },
      {
        "duration": 15,
        "start_time": "2024-08-03T19:00:06.749Z"
      },
      {
        "duration": 9,
        "start_time": "2024-08-03T19:00:45.120Z"
      },
      {
        "duration": 8,
        "start_time": "2024-08-03T19:04:50.975Z"
      },
      {
        "duration": 5,
        "start_time": "2024-08-03T19:04:53.777Z"
      },
      {
        "duration": 14,
        "start_time": "2024-08-03T19:04:57.147Z"
      },
      {
        "duration": 76,
        "start_time": "2024-08-03T19:10:41.581Z"
      },
      {
        "duration": 23,
        "start_time": "2024-08-03T19:10:55.487Z"
      },
      {
        "duration": 25,
        "start_time": "2024-08-03T19:10:56.906Z"
      },
      {
        "duration": 15,
        "start_time": "2024-08-03T19:13:15.073Z"
      },
      {
        "duration": 4,
        "start_time": "2024-08-03T19:13:22.487Z"
      },
      {
        "duration": 13,
        "start_time": "2024-08-03T19:13:24.043Z"
      },
      {
        "duration": 37,
        "start_time": "2024-08-03T19:15:36.260Z"
      },
      {
        "duration": 40,
        "start_time": "2024-08-03T19:16:13.275Z"
      },
      {
        "duration": 6,
        "start_time": "2024-08-03T19:22:13.663Z"
      },
      {
        "duration": 15,
        "start_time": "2024-08-03T19:22:32.274Z"
      },
      {
        "duration": 8359,
        "start_time": "2024-08-03T19:23:27.037Z"
      },
      {
        "duration": 7745,
        "start_time": "2024-08-03T19:26:07.553Z"
      },
      {
        "duration": 8908,
        "start_time": "2024-08-03T19:26:44.249Z"
      },
      {
        "duration": 8814,
        "start_time": "2024-08-03T19:30:20.410Z"
      },
      {
        "duration": 8769,
        "start_time": "2024-08-03T19:31:18.500Z"
      },
      {
        "duration": 391,
        "start_time": "2024-08-03T19:32:56.724Z"
      },
      {
        "duration": 7836,
        "start_time": "2024-08-03T19:39:05.860Z"
      },
      {
        "duration": 7764,
        "start_time": "2024-08-03T19:39:58.790Z"
      },
      {
        "duration": 38,
        "start_time": "2024-08-03T19:41:47.335Z"
      },
      {
        "duration": 7832,
        "start_time": "2024-08-03T19:43:48.975Z"
      },
      {
        "duration": 37,
        "start_time": "2024-08-03T19:44:17.711Z"
      },
      {
        "duration": 1921,
        "start_time": "2024-08-03T19:44:39.999Z"
      },
      {
        "duration": 223,
        "start_time": "2024-08-03T19:44:41.924Z"
      },
      {
        "duration": 262,
        "start_time": "2024-08-03T19:44:42.150Z"
      },
      {
        "duration": 137,
        "start_time": "2024-08-03T19:44:42.417Z"
      },
      {
        "duration": 802,
        "start_time": "2024-08-03T19:44:42.557Z"
      },
      {
        "duration": 78,
        "start_time": "2024-08-03T19:44:43.368Z"
      },
      {
        "duration": 36,
        "start_time": "2024-08-03T19:44:43.448Z"
      },
      {
        "duration": 101,
        "start_time": "2024-08-03T19:44:43.487Z"
      },
      {
        "duration": 82,
        "start_time": "2024-08-03T19:44:43.591Z"
      },
      {
        "duration": 8,
        "start_time": "2024-08-03T19:44:43.678Z"
      },
      {
        "duration": 6,
        "start_time": "2024-08-03T19:44:43.689Z"
      },
      {
        "duration": 14,
        "start_time": "2024-08-03T19:44:43.699Z"
      },
      {
        "duration": 8067,
        "start_time": "2024-08-03T19:44:43.716Z"
      },
      {
        "duration": 1798,
        "start_time": "2024-08-03T19:44:51.786Z"
      },
      {
        "duration": 0,
        "start_time": "2024-08-03T19:44:53.588Z"
      },
      {
        "duration": 8075,
        "start_time": "2024-08-03T19:48:11.501Z"
      },
      {
        "duration": 942,
        "start_time": "2024-08-03T19:51:47.492Z"
      },
      {
        "duration": 7758,
        "start_time": "2024-08-03T20:01:28.444Z"
      },
      {
        "duration": 5,
        "start_time": "2024-08-03T20:05:31.786Z"
      },
      {
        "duration": 12,
        "start_time": "2024-08-03T20:05:33.241Z"
      },
      {
        "duration": 8049,
        "start_time": "2024-08-03T20:05:45.271Z"
      },
      {
        "duration": 8008,
        "start_time": "2024-08-03T20:15:22.133Z"
      },
      {
        "duration": 7853,
        "start_time": "2024-08-03T20:15:47.927Z"
      },
      {
        "duration": 7841,
        "start_time": "2024-08-03T20:16:47.627Z"
      },
      {
        "duration": 2790,
        "start_time": "2024-08-03T20:17:17.070Z"
      },
      {
        "duration": 7931,
        "start_time": "2024-08-03T20:18:30.162Z"
      },
      {
        "duration": 2718,
        "start_time": "2024-08-03T20:18:57.672Z"
      },
      {
        "duration": 2767,
        "start_time": "2024-08-03T20:19:47.358Z"
      },
      {
        "duration": 8079,
        "start_time": "2024-08-03T20:20:04.360Z"
      },
      {
        "duration": 7792,
        "start_time": "2024-08-03T20:20:57.859Z"
      },
      {
        "duration": 1955,
        "start_time": "2024-08-03T20:27:30.676Z"
      },
      {
        "duration": 218,
        "start_time": "2024-08-03T20:27:32.634Z"
      },
      {
        "duration": 255,
        "start_time": "2024-08-03T20:27:32.868Z"
      },
      {
        "duration": 131,
        "start_time": "2024-08-03T20:27:33.128Z"
      },
      {
        "duration": 822,
        "start_time": "2024-08-03T20:27:33.268Z"
      },
      {
        "duration": 96,
        "start_time": "2024-08-03T20:27:34.093Z"
      },
      {
        "duration": 76,
        "start_time": "2024-08-03T20:27:34.192Z"
      },
      {
        "duration": 105,
        "start_time": "2024-08-03T20:27:34.271Z"
      },
      {
        "duration": 10,
        "start_time": "2024-08-03T20:27:34.378Z"
      },
      {
        "duration": 7,
        "start_time": "2024-08-03T20:27:34.394Z"
      },
      {
        "duration": 5,
        "start_time": "2024-08-03T20:27:34.405Z"
      },
      {
        "duration": 463,
        "start_time": "2024-08-03T20:27:34.413Z"
      },
      {
        "duration": 0,
        "start_time": "2024-08-03T20:27:34.879Z"
      },
      {
        "duration": 0,
        "start_time": "2024-08-03T20:27:34.881Z"
      },
      {
        "duration": 0,
        "start_time": "2024-08-03T20:27:34.884Z"
      },
      {
        "duration": 9,
        "start_time": "2024-08-03T20:29:22.806Z"
      },
      {
        "duration": 6,
        "start_time": "2024-08-03T20:29:25.071Z"
      },
      {
        "duration": 16,
        "start_time": "2024-08-03T20:29:26.451Z"
      },
      {
        "duration": 8456,
        "start_time": "2024-08-03T20:29:31.538Z"
      },
      {
        "duration": 4361,
        "start_time": "2024-08-03T20:31:17.911Z"
      },
      {
        "duration": 8,
        "start_time": "2024-08-03T20:32:28.407Z"
      },
      {
        "duration": 4630,
        "start_time": "2024-08-03T20:33:45.577Z"
      },
      {
        "duration": 13,
        "start_time": "2024-08-03T20:34:27.615Z"
      },
      {
        "duration": 4417,
        "start_time": "2024-08-03T20:34:29.653Z"
      },
      {
        "duration": 4289,
        "start_time": "2024-08-03T20:34:58.412Z"
      },
      {
        "duration": 4366,
        "start_time": "2024-08-03T20:36:08.019Z"
      },
      {
        "duration": 2133,
        "start_time": "2024-08-03T20:41:15.910Z"
      },
      {
        "duration": 235,
        "start_time": "2024-08-03T20:41:18.047Z"
      },
      {
        "duration": 289,
        "start_time": "2024-08-03T20:41:18.286Z"
      },
      {
        "duration": 150,
        "start_time": "2024-08-03T20:41:18.582Z"
      },
      {
        "duration": 849,
        "start_time": "2024-08-03T20:41:18.735Z"
      },
      {
        "duration": 98,
        "start_time": "2024-08-03T20:41:19.588Z"
      },
      {
        "duration": 28,
        "start_time": "2024-08-03T20:41:19.688Z"
      },
      {
        "duration": 152,
        "start_time": "2024-08-03T20:41:19.718Z"
      },
      {
        "duration": 12,
        "start_time": "2024-08-03T20:41:19.874Z"
      },
      {
        "duration": 9,
        "start_time": "2024-08-03T20:41:19.892Z"
      },
      {
        "duration": 7,
        "start_time": "2024-08-03T20:41:19.906Z"
      },
      {
        "duration": 58,
        "start_time": "2024-08-03T20:41:19.916Z"
      },
      {
        "duration": 8693,
        "start_time": "2024-08-03T20:41:19.977Z"
      },
      {
        "duration": 1799,
        "start_time": "2024-08-03T20:41:28.678Z"
      },
      {
        "duration": 0,
        "start_time": "2024-08-03T20:41:30.481Z"
      },
      {
        "duration": 29,
        "start_time": "2024-08-03T20:45:35.543Z"
      },
      {
        "duration": 29,
        "start_time": "2024-08-03T20:45:47.029Z"
      },
      {
        "duration": 59,
        "start_time": "2024-08-03T20:48:03.793Z"
      },
      {
        "duration": 42,
        "start_time": "2024-08-03T20:49:14.072Z"
      },
      {
        "duration": 8846,
        "start_time": "2024-08-03T20:55:30.943Z"
      },
      {
        "duration": 8946,
        "start_time": "2024-08-03T20:58:18.268Z"
      },
      {
        "duration": 8842,
        "start_time": "2024-08-03T21:00:20.878Z"
      },
      {
        "duration": 9087,
        "start_time": "2024-08-03T21:06:24.467Z"
      },
      {
        "duration": 2109,
        "start_time": "2024-08-03T21:07:00.662Z"
      },
      {
        "duration": 258,
        "start_time": "2024-08-03T21:07:02.775Z"
      },
      {
        "duration": 272,
        "start_time": "2024-08-03T21:07:03.036Z"
      },
      {
        "duration": 134,
        "start_time": "2024-08-03T21:07:03.313Z"
      },
      {
        "duration": 875,
        "start_time": "2024-08-03T21:07:03.451Z"
      },
      {
        "duration": 94,
        "start_time": "2024-08-03T21:07:04.329Z"
      },
      {
        "duration": 62,
        "start_time": "2024-08-03T21:07:04.425Z"
      },
      {
        "duration": 178,
        "start_time": "2024-08-03T21:07:04.491Z"
      },
      {
        "duration": 10,
        "start_time": "2024-08-03T21:07:04.672Z"
      },
      {
        "duration": 8,
        "start_time": "2024-08-03T21:07:04.686Z"
      },
      {
        "duration": 7,
        "start_time": "2024-08-03T21:07:04.696Z"
      },
      {
        "duration": 17,
        "start_time": "2024-08-03T21:07:04.707Z"
      },
      {
        "duration": 9348,
        "start_time": "2024-08-03T21:07:04.728Z"
      },
      {
        "duration": 450,
        "start_time": "2024-08-03T21:07:14.080Z"
      },
      {
        "duration": 0,
        "start_time": "2024-08-03T21:07:14.533Z"
      },
      {
        "duration": 8926,
        "start_time": "2024-08-03T21:10:43.098Z"
      },
      {
        "duration": 8772,
        "start_time": "2024-08-03T21:11:02.840Z"
      },
      {
        "duration": 9077,
        "start_time": "2024-08-03T21:18:46.267Z"
      },
      {
        "duration": 17224,
        "start_time": "2024-08-03T21:22:13.782Z"
      },
      {
        "duration": 1987,
        "start_time": "2024-08-03T21:25:17.524Z"
      },
      {
        "duration": 210,
        "start_time": "2024-08-03T21:25:19.515Z"
      },
      {
        "duration": 255,
        "start_time": "2024-08-03T21:25:19.727Z"
      },
      {
        "duration": 139,
        "start_time": "2024-08-03T21:25:19.987Z"
      },
      {
        "duration": 808,
        "start_time": "2024-08-03T21:25:20.129Z"
      },
      {
        "duration": 89,
        "start_time": "2024-08-03T21:25:20.940Z"
      },
      {
        "duration": 42,
        "start_time": "2024-08-03T21:25:21.032Z"
      },
      {
        "duration": 99,
        "start_time": "2024-08-03T21:25:21.077Z"
      },
      {
        "duration": 10,
        "start_time": "2024-08-03T21:25:21.178Z"
      },
      {
        "duration": 80,
        "start_time": "2024-08-03T21:25:21.193Z"
      },
      {
        "duration": 5,
        "start_time": "2024-08-03T21:25:21.277Z"
      },
      {
        "duration": 13,
        "start_time": "2024-08-03T21:25:21.286Z"
      },
      {
        "duration": 17168,
        "start_time": "2024-08-03T21:25:21.301Z"
      },
      {
        "duration": 7,
        "start_time": "2024-08-03T21:25:38.472Z"
      },
      {
        "duration": 7,
        "start_time": "2024-08-03T21:25:38.483Z"
      },
      {
        "duration": 456,
        "start_time": "2024-08-03T21:25:38.493Z"
      },
      {
        "duration": 17151,
        "start_time": "2024-08-03T21:33:04.592Z"
      },
      {
        "duration": 42,
        "start_time": "2024-08-03T21:35:51.921Z"
      },
      {
        "duration": 8802,
        "start_time": "2024-08-03T21:37:28.031Z"
      },
      {
        "duration": 5,
        "start_time": "2024-08-03T21:47:24.005Z"
      },
      {
        "duration": 8882,
        "start_time": "2024-08-03T21:52:30.690Z"
      },
      {
        "duration": 8832,
        "start_time": "2024-08-03T21:58:35.401Z"
      },
      {
        "duration": 8903,
        "start_time": "2024-08-03T21:58:52.610Z"
      },
      {
        "duration": 8850,
        "start_time": "2024-08-03T22:02:25.540Z"
      },
      {
        "duration": 8936,
        "start_time": "2024-08-03T22:02:50.076Z"
      },
      {
        "duration": 8930,
        "start_time": "2024-08-03T22:03:03.837Z"
      },
      {
        "duration": 8862,
        "start_time": "2024-08-03T22:03:49.771Z"
      },
      {
        "duration": 8957,
        "start_time": "2024-08-03T22:07:42.143Z"
      },
      {
        "duration": 24,
        "start_time": "2024-08-03T22:14:37.284Z"
      },
      {
        "duration": 32,
        "start_time": "2024-08-03T22:14:49.549Z"
      },
      {
        "duration": 4,
        "start_time": "2024-08-03T22:15:04.455Z"
      },
      {
        "duration": 5,
        "start_time": "2024-08-03T22:15:52.180Z"
      },
      {
        "duration": 39,
        "start_time": "2024-08-03T22:16:59.655Z"
      },
      {
        "duration": 26,
        "start_time": "2024-08-03T22:17:35.444Z"
      },
      {
        "duration": 23,
        "start_time": "2024-08-03T22:17:43.703Z"
      },
      {
        "duration": 24,
        "start_time": "2024-08-03T22:17:56.485Z"
      },
      {
        "duration": 8829,
        "start_time": "2024-08-03T22:18:47.662Z"
      },
      {
        "duration": 8982,
        "start_time": "2024-08-03T22:19:12.168Z"
      },
      {
        "duration": 6,
        "start_time": "2024-08-03T22:19:23.310Z"
      },
      {
        "duration": 7,
        "start_time": "2024-08-03T22:20:26.276Z"
      },
      {
        "duration": 8917,
        "start_time": "2024-08-03T22:20:52.128Z"
      },
      {
        "duration": 16,
        "start_time": "2024-08-03T22:21:48.155Z"
      },
      {
        "duration": 8856,
        "start_time": "2024-08-03T22:29:57.597Z"
      },
      {
        "duration": 8902,
        "start_time": "2024-08-03T22:31:57.291Z"
      },
      {
        "duration": 5,
        "start_time": "2024-08-03T22:32:17.066Z"
      },
      {
        "duration": 8781,
        "start_time": "2024-08-03T22:42:28.905Z"
      },
      {
        "duration": 9558,
        "start_time": "2024-08-03T22:48:52.567Z"
      },
      {
        "duration": 7943,
        "start_time": "2024-08-03T22:52:48.876Z"
      },
      {
        "duration": 8657,
        "start_time": "2024-08-03T22:54:08.311Z"
      },
      {
        "duration": 8219,
        "start_time": "2024-08-03T23:04:32.162Z"
      },
      {
        "duration": 6,
        "start_time": "2024-08-03T23:05:01.002Z"
      },
      {
        "duration": 1976,
        "start_time": "2024-08-03T23:05:25.099Z"
      },
      {
        "duration": 223,
        "start_time": "2024-08-03T23:05:27.079Z"
      },
      {
        "duration": 284,
        "start_time": "2024-08-03T23:05:27.306Z"
      },
      {
        "duration": 153,
        "start_time": "2024-08-03T23:05:27.595Z"
      },
      {
        "duration": 874,
        "start_time": "2024-08-03T23:05:27.752Z"
      },
      {
        "duration": 98,
        "start_time": "2024-08-03T23:05:28.630Z"
      },
      {
        "duration": 43,
        "start_time": "2024-08-03T23:05:28.732Z"
      },
      {
        "duration": 115,
        "start_time": "2024-08-03T23:05:28.779Z"
      },
      {
        "duration": 61,
        "start_time": "2024-08-03T23:05:28.908Z"
      },
      {
        "duration": 8,
        "start_time": "2024-08-03T23:05:28.976Z"
      },
      {
        "duration": 5,
        "start_time": "2024-08-03T23:05:28.987Z"
      },
      {
        "duration": 14,
        "start_time": "2024-08-03T23:05:28.996Z"
      },
      {
        "duration": 7974,
        "start_time": "2024-08-03T23:05:29.013Z"
      },
      {
        "duration": 450,
        "start_time": "2024-08-03T23:05:36.990Z"
      },
      {
        "duration": 0,
        "start_time": "2024-08-03T23:05:37.443Z"
      },
      {
        "duration": 0,
        "start_time": "2024-08-03T23:05:37.446Z"
      },
      {
        "duration": 0,
        "start_time": "2024-08-03T23:05:37.449Z"
      },
      {
        "duration": 8519,
        "start_time": "2024-08-03T23:12:42.396Z"
      },
      {
        "duration": 14770,
        "start_time": "2024-08-03T23:15:48.683Z"
      },
      {
        "duration": 13160,
        "start_time": "2024-08-03T23:22:26.618Z"
      },
      {
        "duration": 8804,
        "start_time": "2024-08-03T23:22:50.680Z"
      },
      {
        "duration": 9085,
        "start_time": "2024-08-03T23:35:15.848Z"
      },
      {
        "duration": 7945,
        "start_time": "2024-08-03T23:47:53.407Z"
      },
      {
        "duration": 7907,
        "start_time": "2024-08-03T23:49:39.392Z"
      },
      {
        "duration": 9,
        "start_time": "2024-08-03T23:49:47.302Z"
      },
      {
        "duration": 6,
        "start_time": "2024-08-03T23:49:49.187Z"
      },
      {
        "duration": 5,
        "start_time": "2024-08-03T23:51:19.690Z"
      },
      {
        "duration": 7901,
        "start_time": "2024-08-03T23:54:56.077Z"
      },
      {
        "duration": 35,
        "start_time": "2024-08-03T23:55:03.982Z"
      },
      {
        "duration": 13997,
        "start_time": "2024-08-03T23:57:09.561Z"
      },
      {
        "duration": 14986,
        "start_time": "2024-08-03T23:57:38.292Z"
      },
      {
        "duration": 14516,
        "start_time": "2024-08-03T23:59:56.553Z"
      },
      {
        "duration": 6,
        "start_time": "2024-08-04T00:00:18.542Z"
      },
      {
        "duration": 13884,
        "start_time": "2024-08-04T00:02:59.316Z"
      },
      {
        "duration": 14536,
        "start_time": "2024-08-04T00:03:13.203Z"
      },
      {
        "duration": 13880,
        "start_time": "2024-08-04T00:03:59.626Z"
      },
      {
        "duration": 14565,
        "start_time": "2024-08-04T00:04:13.509Z"
      },
      {
        "duration": 14161,
        "start_time": "2024-08-04T00:04:45.978Z"
      },
      {
        "duration": 14331,
        "start_time": "2024-08-04T00:05:00.142Z"
      },
      {
        "duration": 6,
        "start_time": "2024-08-04T00:05:59.979Z"
      },
      {
        "duration": 14494,
        "start_time": "2024-08-04T00:06:00.752Z"
      },
      {
        "duration": 5,
        "start_time": "2024-08-04T00:06:58.100Z"
      },
      {
        "duration": 8322,
        "start_time": "2024-08-04T00:06:58.951Z"
      },
      {
        "duration": 6,
        "start_time": "2024-08-04T00:07:25.887Z"
      },
      {
        "duration": 14427,
        "start_time": "2024-08-04T00:07:26.819Z"
      },
      {
        "duration": 5,
        "start_time": "2024-08-04T00:08:07.025Z"
      },
      {
        "duration": 14486,
        "start_time": "2024-08-04T00:08:07.795Z"
      },
      {
        "duration": 6,
        "start_time": "2024-08-04T00:08:34.118Z"
      },
      {
        "duration": 14684,
        "start_time": "2024-08-04T00:08:34.838Z"
      },
      {
        "duration": 6,
        "start_time": "2024-08-04T00:09:42.367Z"
      },
      {
        "duration": 1961,
        "start_time": "2024-08-04T00:16:11.563Z"
      },
      {
        "duration": 200,
        "start_time": "2024-08-04T00:16:13.528Z"
      },
      {
        "duration": 259,
        "start_time": "2024-08-04T00:16:13.731Z"
      },
      {
        "duration": 142,
        "start_time": "2024-08-04T00:16:13.995Z"
      },
      {
        "duration": 803,
        "start_time": "2024-08-04T00:16:14.139Z"
      },
      {
        "duration": 108,
        "start_time": "2024-08-04T00:16:14.945Z"
      },
      {
        "duration": 31,
        "start_time": "2024-08-04T00:16:15.057Z"
      },
      {
        "duration": 176,
        "start_time": "2024-08-04T00:16:15.091Z"
      },
      {
        "duration": 14,
        "start_time": "2024-08-04T00:16:15.270Z"
      },
      {
        "duration": 8,
        "start_time": "2024-08-04T00:16:15.291Z"
      },
      {
        "duration": 5,
        "start_time": "2024-08-04T00:16:15.302Z"
      },
      {
        "duration": 14,
        "start_time": "2024-08-04T00:16:15.309Z"
      },
      {
        "duration": 7,
        "start_time": "2024-08-04T00:16:15.369Z"
      },
      {
        "duration": 14484,
        "start_time": "2024-08-04T00:16:15.380Z"
      },
      {
        "duration": 5,
        "start_time": "2024-08-04T00:16:29.870Z"
      },
      {
        "duration": 7,
        "start_time": "2024-08-04T00:16:29.879Z"
      },
      {
        "duration": 1159,
        "start_time": "2024-08-04T00:30:51.048Z"
      },
      {
        "duration": 1259,
        "start_time": "2024-08-04T00:33:21.019Z"
      },
      {
        "duration": 1134,
        "start_time": "2024-08-04T00:36:21.065Z"
      },
      {
        "duration": 1153,
        "start_time": "2024-08-04T00:37:33.249Z"
      },
      {
        "duration": 2823,
        "start_time": "2024-08-04T00:43:53.754Z"
      },
      {
        "duration": 2817,
        "start_time": "2024-08-04T00:52:48.596Z"
      },
      {
        "duration": 3062,
        "start_time": "2024-08-04T00:54:25.440Z"
      },
      {
        "duration": 1461,
        "start_time": "2024-08-04T01:00:45.562Z"
      },
      {
        "duration": 1517,
        "start_time": "2024-08-04T01:04:48.113Z"
      },
      {
        "duration": 1550,
        "start_time": "2024-08-04T01:06:35.646Z"
      },
      {
        "duration": 1910,
        "start_time": "2024-08-04T01:28:58.612Z"
      },
      {
        "duration": 206,
        "start_time": "2024-08-04T01:29:00.526Z"
      },
      {
        "duration": 265,
        "start_time": "2024-08-04T01:29:00.735Z"
      },
      {
        "duration": 142,
        "start_time": "2024-08-04T01:29:01.004Z"
      },
      {
        "duration": 3089,
        "start_time": "2024-08-04T01:29:01.148Z"
      },
      {
        "duration": 79,
        "start_time": "2024-08-04T01:29:04.240Z"
      },
      {
        "duration": 52,
        "start_time": "2024-08-04T01:29:04.322Z"
      },
      {
        "duration": 102,
        "start_time": "2024-08-04T01:29:04.377Z"
      },
      {
        "duration": 86,
        "start_time": "2024-08-04T01:29:04.482Z"
      },
      {
        "duration": 9,
        "start_time": "2024-08-04T01:29:04.573Z"
      },
      {
        "duration": 5,
        "start_time": "2024-08-04T01:29:04.585Z"
      },
      {
        "duration": 15,
        "start_time": "2024-08-04T01:29:04.594Z"
      },
      {
        "duration": 7,
        "start_time": "2024-08-04T01:29:04.612Z"
      },
      {
        "duration": 14586,
        "start_time": "2024-08-04T01:29:04.669Z"
      },
      {
        "duration": 10,
        "start_time": "2024-08-04T01:29:19.259Z"
      },
      {
        "duration": 1525,
        "start_time": "2024-08-04T01:29:19.272Z"
      },
      {
        "duration": 1952,
        "start_time": "2024-08-04T01:30:43.900Z"
      },
      {
        "duration": 224,
        "start_time": "2024-08-04T01:30:45.856Z"
      },
      {
        "duration": 300,
        "start_time": "2024-08-04T01:30:46.083Z"
      },
      {
        "duration": 150,
        "start_time": "2024-08-04T01:30:46.387Z"
      },
      {
        "duration": 3108,
        "start_time": "2024-08-04T01:30:46.540Z"
      },
      {
        "duration": 79,
        "start_time": "2024-08-04T01:30:49.652Z"
      },
      {
        "duration": 45,
        "start_time": "2024-08-04T01:30:49.734Z"
      },
      {
        "duration": 101,
        "start_time": "2024-08-04T01:30:49.783Z"
      },
      {
        "duration": 86,
        "start_time": "2024-08-04T01:30:49.887Z"
      },
      {
        "duration": 9,
        "start_time": "2024-08-04T01:30:49.978Z"
      },
      {
        "duration": 5,
        "start_time": "2024-08-04T01:30:49.990Z"
      },
      {
        "duration": 14,
        "start_time": "2024-08-04T01:30:49.998Z"
      },
      {
        "duration": 6,
        "start_time": "2024-08-04T01:30:50.015Z"
      },
      {
        "duration": 14434,
        "start_time": "2024-08-04T01:30:50.069Z"
      },
      {
        "duration": 6,
        "start_time": "2024-08-04T01:31:04.506Z"
      },
      {
        "duration": 1494,
        "start_time": "2024-08-04T01:31:04.516Z"
      },
      {
        "duration": 7,
        "start_time": "2024-08-04T01:34:36.425Z"
      },
      {
        "duration": 6,
        "start_time": "2024-08-04T01:35:00.107Z"
      },
      {
        "duration": 15842,
        "start_time": "2024-08-04T01:35:01.077Z"
      },
      {
        "duration": 6,
        "start_time": "2024-08-04T01:35:44.626Z"
      },
      {
        "duration": 1548,
        "start_time": "2024-08-04T01:37:15.784Z"
      },
      {
        "duration": 15856,
        "start_time": "2024-08-04T01:37:46.516Z"
      },
      {
        "duration": 1962,
        "start_time": "2024-08-04T01:44:42.363Z"
      },
      {
        "duration": 203,
        "start_time": "2024-08-04T01:44:44.328Z"
      },
      {
        "duration": 283,
        "start_time": "2024-08-04T01:44:44.534Z"
      },
      {
        "duration": 147,
        "start_time": "2024-08-04T01:44:44.821Z"
      },
      {
        "duration": 3122,
        "start_time": "2024-08-04T01:44:44.974Z"
      },
      {
        "duration": 83,
        "start_time": "2024-08-04T01:44:48.100Z"
      },
      {
        "duration": 22,
        "start_time": "2024-08-04T01:44:48.186Z"
      },
      {
        "duration": 159,
        "start_time": "2024-08-04T01:44:48.211Z"
      },
      {
        "duration": 11,
        "start_time": "2024-08-04T01:44:48.374Z"
      },
      {
        "duration": 9,
        "start_time": "2024-08-04T01:44:48.388Z"
      },
      {
        "duration": 5,
        "start_time": "2024-08-04T01:44:48.401Z"
      },
      {
        "duration": 64,
        "start_time": "2024-08-04T01:44:48.409Z"
      },
      {
        "duration": 8,
        "start_time": "2024-08-04T01:44:48.475Z"
      },
      {
        "duration": 15427,
        "start_time": "2024-08-04T01:44:48.490Z"
      },
      {
        "duration": 6,
        "start_time": "2024-08-04T01:45:03.919Z"
      },
      {
        "duration": 1500,
        "start_time": "2024-08-04T01:45:03.928Z"
      },
      {
        "duration": 6,
        "start_time": "2024-08-04T01:48:49.903Z"
      },
      {
        "duration": 1994,
        "start_time": "2024-08-04T01:49:25.684Z"
      },
      {
        "duration": 220,
        "start_time": "2024-08-04T01:49:27.681Z"
      },
      {
        "duration": 280,
        "start_time": "2024-08-04T01:49:27.905Z"
      },
      {
        "duration": 142,
        "start_time": "2024-08-04T01:49:28.190Z"
      },
      {
        "duration": 3161,
        "start_time": "2024-08-04T01:49:28.335Z"
      },
      {
        "duration": 77,
        "start_time": "2024-08-04T01:49:31.499Z"
      },
      {
        "duration": 22,
        "start_time": "2024-08-04T01:49:31.579Z"
      },
      {
        "duration": 87,
        "start_time": "2024-08-04T01:49:31.604Z"
      },
      {
        "duration": 79,
        "start_time": "2024-08-04T01:49:31.695Z"
      },
      {
        "duration": 8,
        "start_time": "2024-08-04T01:49:31.779Z"
      },
      {
        "duration": 6,
        "start_time": "2024-08-04T01:49:31.791Z"
      },
      {
        "duration": 14,
        "start_time": "2024-08-04T01:49:31.800Z"
      },
      {
        "duration": 55,
        "start_time": "2024-08-04T01:49:31.817Z"
      },
      {
        "duration": 15449,
        "start_time": "2024-08-04T01:49:31.875Z"
      },
      {
        "duration": 5,
        "start_time": "2024-08-04T01:49:47.327Z"
      },
      {
        "duration": 1596,
        "start_time": "2024-08-04T01:49:47.336Z"
      },
      {
        "duration": 1953,
        "start_time": "2024-08-04T01:50:10.060Z"
      },
      {
        "duration": 221,
        "start_time": "2024-08-04T01:50:12.016Z"
      },
      {
        "duration": 272,
        "start_time": "2024-08-04T01:50:12.239Z"
      },
      {
        "duration": 131,
        "start_time": "2024-08-04T01:50:12.515Z"
      },
      {
        "duration": 3091,
        "start_time": "2024-08-04T01:50:12.649Z"
      },
      {
        "duration": 87,
        "start_time": "2024-08-04T01:50:15.744Z"
      },
      {
        "duration": 44,
        "start_time": "2024-08-04T01:50:15.833Z"
      },
      {
        "duration": 108,
        "start_time": "2024-08-04T01:50:15.880Z"
      },
      {
        "duration": 82,
        "start_time": "2024-08-04T01:50:15.992Z"
      },
      {
        "duration": 9,
        "start_time": "2024-08-04T01:50:16.080Z"
      },
      {
        "duration": 5,
        "start_time": "2024-08-04T01:50:16.092Z"
      },
      {
        "duration": 16,
        "start_time": "2024-08-04T01:50:16.100Z"
      },
      {
        "duration": 7,
        "start_time": "2024-08-04T01:50:16.167Z"
      },
      {
        "duration": 15581,
        "start_time": "2024-08-04T01:50:16.177Z"
      },
      {
        "duration": 5,
        "start_time": "2024-08-04T01:50:31.767Z"
      },
      {
        "duration": 1452,
        "start_time": "2024-08-04T01:50:31.776Z"
      },
      {
        "duration": 5944,
        "start_time": "2024-08-04T06:39:40.069Z"
      },
      {
        "duration": 210,
        "start_time": "2024-08-04T06:39:46.016Z"
      },
      {
        "duration": 331,
        "start_time": "2024-08-04T06:39:46.229Z"
      },
      {
        "duration": 132,
        "start_time": "2024-08-04T06:39:46.563Z"
      },
      {
        "duration": 3069,
        "start_time": "2024-08-04T06:39:46.712Z"
      },
      {
        "duration": 79,
        "start_time": "2024-08-04T06:39:49.784Z"
      },
      {
        "duration": 47,
        "start_time": "2024-08-04T06:39:49.866Z"
      },
      {
        "duration": 100,
        "start_time": "2024-08-04T06:39:49.916Z"
      },
      {
        "duration": 10,
        "start_time": "2024-08-04T06:39:50.019Z"
      },
      {
        "duration": 80,
        "start_time": "2024-08-04T06:39:50.032Z"
      },
      {
        "duration": 5,
        "start_time": "2024-08-04T06:39:50.116Z"
      },
      {
        "duration": 14,
        "start_time": "2024-08-04T06:39:50.125Z"
      },
      {
        "duration": 7,
        "start_time": "2024-08-04T06:39:50.141Z"
      },
      {
        "duration": 15212,
        "start_time": "2024-08-04T06:39:50.154Z"
      },
      {
        "duration": 6,
        "start_time": "2024-08-04T06:40:05.369Z"
      },
      {
        "duration": 1497,
        "start_time": "2024-08-04T06:40:05.378Z"
      },
      {
        "duration": 7,
        "start_time": "2024-08-04T06:40:53.796Z"
      },
      {
        "duration": 6926,
        "start_time": "2024-08-04T06:40:57.561Z"
      },
      {
        "duration": 6,
        "start_time": "2024-08-04T06:41:04.491Z"
      },
      {
        "duration": 7,
        "start_time": "2024-08-04T06:42:20.572Z"
      },
      {
        "duration": 15264,
        "start_time": "2024-08-04T06:42:22.220Z"
      },
      {
        "duration": 11,
        "start_time": "2024-08-04T06:59:37.464Z"
      },
      {
        "duration": 316,
        "start_time": "2024-08-04T06:59:40.262Z"
      },
      {
        "duration": 5671,
        "start_time": "2024-08-04T07:00:30.241Z"
      },
      {
        "duration": 195,
        "start_time": "2024-08-04T07:00:35.917Z"
      },
      {
        "duration": 259,
        "start_time": "2024-08-04T07:00:36.115Z"
      },
      {
        "duration": 132,
        "start_time": "2024-08-04T07:00:36.378Z"
      },
      {
        "duration": 3209,
        "start_time": "2024-08-04T07:00:36.512Z"
      },
      {
        "duration": 79,
        "start_time": "2024-08-04T07:00:39.724Z"
      },
      {
        "duration": 34,
        "start_time": "2024-08-04T07:00:39.807Z"
      },
      {
        "duration": 102,
        "start_time": "2024-08-04T07:00:39.845Z"
      },
      {
        "duration": 84,
        "start_time": "2024-08-04T07:00:39.950Z"
      },
      {
        "duration": 8,
        "start_time": "2024-08-04T07:00:40.039Z"
      },
      {
        "duration": 6,
        "start_time": "2024-08-04T07:00:40.050Z"
      },
      {
        "duration": 14,
        "start_time": "2024-08-04T07:00:40.059Z"
      },
      {
        "duration": 5,
        "start_time": "2024-08-04T07:00:40.076Z"
      },
      {
        "duration": 5270,
        "start_time": "2024-08-04T07:00:40.085Z"
      },
      {
        "duration": 6,
        "start_time": "2024-08-04T07:00:45.358Z"
      },
      {
        "duration": 1507,
        "start_time": "2024-08-04T07:00:45.367Z"
      },
      {
        "duration": 5156,
        "start_time": "2024-08-04T07:01:53.036Z"
      },
      {
        "duration": 5,
        "start_time": "2024-08-04T07:03:38.964Z"
      },
      {
        "duration": 5214,
        "start_time": "2024-08-04T07:03:40.404Z"
      },
      {
        "duration": 6,
        "start_time": "2024-08-04T07:10:42.122Z"
      },
      {
        "duration": 4336,
        "start_time": "2024-08-04T07:10:44.148Z"
      },
      {
        "duration": 4343,
        "start_time": "2024-08-04T07:12:33.067Z"
      },
      {
        "duration": 6,
        "start_time": "2024-08-04T07:13:49.675Z"
      },
      {
        "duration": 1957,
        "start_time": "2024-08-04T07:14:14.504Z"
      },
      {
        "duration": 213,
        "start_time": "2024-08-04T07:14:16.465Z"
      },
      {
        "duration": 252,
        "start_time": "2024-08-04T07:14:16.681Z"
      },
      {
        "duration": 124,
        "start_time": "2024-08-04T07:14:16.936Z"
      },
      {
        "duration": 3096,
        "start_time": "2024-08-04T07:14:17.065Z"
      },
      {
        "duration": 84,
        "start_time": "2024-08-04T07:14:20.165Z"
      },
      {
        "duration": 23,
        "start_time": "2024-08-04T07:14:20.252Z"
      },
      {
        "duration": 155,
        "start_time": "2024-08-04T07:14:20.278Z"
      },
      {
        "duration": 10,
        "start_time": "2024-08-04T07:14:20.435Z"
      },
      {
        "duration": 8,
        "start_time": "2024-08-04T07:14:20.448Z"
      },
      {
        "duration": 6,
        "start_time": "2024-08-04T07:14:20.458Z"
      },
      {
        "duration": 15,
        "start_time": "2024-08-04T07:14:20.467Z"
      },
      {
        "duration": 51,
        "start_time": "2024-08-04T07:14:20.484Z"
      },
      {
        "duration": 4471,
        "start_time": "2024-08-04T07:14:20.542Z"
      },
      {
        "duration": 18,
        "start_time": "2024-08-04T07:14:25.016Z"
      },
      {
        "duration": 1522,
        "start_time": "2024-08-04T07:14:25.037Z"
      },
      {
        "duration": 6,
        "start_time": "2024-08-04T07:16:32.636Z"
      },
      {
        "duration": 5207,
        "start_time": "2024-08-04T07:16:34.065Z"
      },
      {
        "duration": 8,
        "start_time": "2024-08-04T07:17:37.093Z"
      },
      {
        "duration": 4403,
        "start_time": "2024-08-04T07:17:46.731Z"
      },
      {
        "duration": 5,
        "start_time": "2024-08-04T07:20:18.362Z"
      },
      {
        "duration": 392,
        "start_time": "2024-08-04T07:20:20.324Z"
      },
      {
        "duration": 5,
        "start_time": "2024-08-04T07:21:06.529Z"
      },
      {
        "duration": 5232,
        "start_time": "2024-08-04T07:21:08.743Z"
      },
      {
        "duration": 6,
        "start_time": "2024-08-04T07:29:32.751Z"
      },
      {
        "duration": 5210,
        "start_time": "2024-08-04T07:29:34.156Z"
      },
      {
        "duration": 5,
        "start_time": "2024-08-04T07:37:53.075Z"
      },
      {
        "duration": 4393,
        "start_time": "2024-08-04T07:39:38.441Z"
      },
      {
        "duration": 6,
        "start_time": "2024-08-04T07:39:48.367Z"
      },
      {
        "duration": 4427,
        "start_time": "2024-08-04T07:39:49.967Z"
      },
      {
        "duration": 4456,
        "start_time": "2024-08-04T07:41:20.523Z"
      },
      {
        "duration": 4387,
        "start_time": "2024-08-04T07:41:44.811Z"
      },
      {
        "duration": 4392,
        "start_time": "2024-08-04T07:42:11.574Z"
      },
      {
        "duration": 6,
        "start_time": "2024-08-04T07:43:25.946Z"
      },
      {
        "duration": 4376,
        "start_time": "2024-08-04T07:43:27.395Z"
      },
      {
        "duration": 6,
        "start_time": "2024-08-04T07:45:01.369Z"
      },
      {
        "duration": 4413,
        "start_time": "2024-08-04T07:47:08.814Z"
      },
      {
        "duration": 4441,
        "start_time": "2024-08-04T07:48:31.904Z"
      },
      {
        "duration": 6,
        "start_time": "2024-08-04T07:48:53.948Z"
      },
      {
        "duration": 1480,
        "start_time": "2024-08-04T07:51:04.001Z"
      },
      {
        "duration": 1957,
        "start_time": "2024-08-04T08:01:55.431Z"
      },
      {
        "duration": 197,
        "start_time": "2024-08-04T08:01:57.392Z"
      },
      {
        "duration": 259,
        "start_time": "2024-08-04T08:01:57.592Z"
      },
      {
        "duration": 136,
        "start_time": "2024-08-04T08:01:57.855Z"
      },
      {
        "duration": 3040,
        "start_time": "2024-08-04T08:01:57.993Z"
      },
      {
        "duration": 78,
        "start_time": "2024-08-04T08:02:01.036Z"
      },
      {
        "duration": 39,
        "start_time": "2024-08-04T08:02:01.116Z"
      },
      {
        "duration": 177,
        "start_time": "2024-08-04T08:02:01.158Z"
      },
      {
        "duration": 12,
        "start_time": "2024-08-04T08:02:01.338Z"
      },
      {
        "duration": 13,
        "start_time": "2024-08-04T08:02:01.356Z"
      },
      {
        "duration": 6,
        "start_time": "2024-08-04T08:02:01.373Z"
      },
      {
        "duration": 51,
        "start_time": "2024-08-04T08:02:01.382Z"
      },
      {
        "duration": 7,
        "start_time": "2024-08-04T08:02:01.436Z"
      },
      {
        "duration": 4356,
        "start_time": "2024-08-04T08:02:01.447Z"
      },
      {
        "duration": 8,
        "start_time": "2024-08-04T08:02:05.806Z"
      },
      {
        "duration": 1467,
        "start_time": "2024-08-04T08:02:05.818Z"
      }
    ],
    "toc": {
      "base_numbering": 1,
      "nav_menu": {},
      "number_sections": true,
      "sideBar": true,
      "skip_h1_title": true,
      "title_cell": "Table of Contents",
      "title_sidebar": "Contents",
      "toc_cell": false,
      "toc_position": {
        "height": "calc(100% - 180px)",
        "left": "10px",
        "top": "150px",
        "width": "228.6px"
      },
      "toc_section_display": true,
      "toc_window_display": true
    }
  },
  "nbformat_minor": 4,
  "nbformat": 4,
  "cells": [
    {
      "cell_type": "markdown",
      "source": "---\n# Optimal Region Selection for New Oil Well Development\n\nThis project aims to identify the most profitable and least risky region for developing new oil wells among three potential regions. Using advanced data analysis techniques and machine learning models, we assess each region's potential by analyzing geological data, predicting oil reserves, and evaluating financial metrics.\nOur approach involves several key steps:\n\n- Data Preparation: We begin by loading and inspecting the geological data from the three regions to understand its structure and ensure its readiness for analysis.\n- Model Training and Validation: We train a Linear Regression model to predict the volume of oil reserves, using a split of training and validation data to ensure model accuracy. Performance metrics such as average predicted volume and Root Mean Squared Error (RMSE) are calculated for each region.\n- Profit Calculation Preparation: Key financial parameters are established, and we calculate the minimum volume of reserves required to avoid losses. These values are compared with the average reserves in each region.\n- Profit Analysis from Selected Wells: We select the top 200 wells with the highest predicted values in each region and calculate the total volume of reserves and expected profit.\n- Risk and Profit Assessment: Employing the bootstrapping technique, we analyze the distribution of profits for each region, determining the average profit, confidence intervals, and the risk of losses.\n\nThe final recommendation is based on a comprehensive comparison of expected profits and associated risks.\n\n---",
      "metadata": {}
    },
    {
      "cell_type": "markdown",
      "source": "###  Data Loading and Initial Inspection\n#### Loading data from the three CSV files ",
      "metadata": {}
    },
    {
      "cell_type": "code",
      "source": "# Import all necessary libraries\nimport pandas as pd\n# import seaborn as sns\nfrom sklearn.preprocessing import StandardScaler\nfrom sklearn.linear_model import LinearRegression\nfrom sklearn.metrics import mean_squared_error\nfrom sklearn.model_selection import train_test_split\nfrom sklearn.utils import resample\nimport numpy as np\nfrom scipy.stats import bootstrap\nfrom sklearn.preprocessing import StandardScaler\nimport matplotlib.pyplot as plt\n\n# Load CSV files\ndata_region_0 = pd.read_csv('geo_data_0.csv')\ndata_region_1 = pd.read_csv('geo_data_1.csv')\ndata_region_2 = pd.read_csv('geo_data_2.csv')\n\n# Inspecting first 5 rows of each dataset\ndisplay(data_region_0.head())\ndisplay(data_region_1.head())\ndisplay(data_region_2.head())",
      "metadata": {
        "trusted": true
      },
      "outputs": [],
      "execution_count": null
    },
    {
      "cell_type": "markdown",
      "source": "#### Inspecting each dataset",
      "metadata": {}
    },
    {
      "cell_type": "code",
      "source": "# Inspecting the datasets\nprint(data_region_0.info())\nprint(data_region_1.info())\nprint(data_region_2.info())\n\n# Statistical summaries of all datasets\ndisplay(data_region_0.describe())\ndisplay(data_region_1.describe())\ndisplay(data_region_2.describe())\n\n# Check for missing values\ndisplay(data_region_0.isnull().sum())\ndisplay(data_region_1.isnull().sum())\ndisplay(data_region_2.isnull().sum())",
      "metadata": {
        "trusted": true
      },
      "outputs": [],
      "execution_count": null
    },
    {
      "cell_type": "markdown",
      "source": "#### Check For Duplicates",
      "metadata": {}
    },
    {
      "cell_type": "code",
      "source": "# Check for completely duplicated rows in each dataframe\nprint(f\"Region 0 duplicated rows: {data_region_0.duplicated().sum()}\")\nprint(f\"Region 1 duplicated rows: {data_region_1.duplicated().sum()}\")\nprint(f\"Region 2 duplicated rows: {data_region_2.duplicated().sum()}\")\n\n# Check for duplicates in each column of each dataframe\nduplicates_region_0 = data_region_0.apply(lambda x: x.duplicated().sum())\nduplicates_region_1 = data_region_1.apply(lambda x: x.duplicated().sum())\nduplicates_region_2 = data_region_2.apply(lambda x: x.duplicated().sum())\n\nprint() \nprint(\"Duplicates in Region 0:\")\nprint(duplicates_region_0)\nprint(\"\\nDuplicates in Region 1:\")\nprint(duplicates_region_1)\nprint(\"\\nDuplicates in Region 2:\")\nprint(duplicates_region_2)",
      "metadata": {
        "trusted": true
      },
      "outputs": [],
      "execution_count": null
    },
    {
      "cell_type": "markdown",
      "source": "#### Removing Duplicates",
      "metadata": {}
    },
    {
      "cell_type": "code",
      "source": "# removing duplicates in 'id' columns\ndata_region_0 = data_region_0.drop_duplicates(subset=['id'])\ndata_region_1 = data_region_1.drop_duplicates(subset=['id'])\ndata_region_2 = data_region_2.drop_duplicates(subset=['id'])\n\n# Confirm that duplicates were removed\nprint(f\"Region 0 duplicate ids after removal: {data_region_0['id'].duplicated().sum()}\")\nprint(f\"Region 1 duplicate ids after removal: {data_region_1['id'].duplicated().sum()}\")\nprint(f\"Region 2 duplicate ids after removal: {data_region_2['id'].duplicated().sum()}\")",
      "metadata": {
        "trusted": true
      },
      "outputs": [],
      "execution_count": null
    },
    {
      "cell_type": "markdown",
      "source": "#### Analyzing Distributions in Each Dataframe Through Charts",
      "metadata": {}
    },
    {
      "cell_type": "code",
      "source": "fig, axes = plt.subplots(1, 3, figsize=(18, 5))\nfig.suptitle('Distribution of Oil Reserves in Each Region', fontsize=18, fontweight='bold')\n\naxes[0].hist(data_region_0['product'], bins=50, color='blue')\naxes[0].set_title('Region 0')\n\naxes[1].hist(data_region_1['product'], bins=50, color='green')\naxes[1].set_title('Region 1')\n\naxes[2].hist(data_region_2['product'], bins=50, color='red')\naxes[2].set_title('Region 2')\n\nplt.tight_layout(rect=[0, 0, 1, 0.95])\nplt.show()",
      "metadata": {
        "trusted": true,
        "tags": [],
        "editable": true,
        "slideshow": {
          "slide_type": ""
        }
      },
      "outputs": [],
      "execution_count": null
    },
    {
      "cell_type": "markdown",
      "source": "#### Graph Analysis: Distribution of Oil Reserves by Region\n**Region 0:**\n- The distribution of oil reserves shows a relatively uniform pattern with multiple peaks.\n- There are frequent values around 50, 75, 100, 125, and 150 thousand barrels.\n- The number of oil wells with these reserve levels ranges from about 500 to over 3000.\n\n**Region 1:**\n- The distribution of oil reserves in Region 1 exhibits a highly periodic pattern with distinct peaks at regular intervals.\n- Oil reserves are concentrated around 0, 30, 60, 90, 120, and 140 thousand barrels.\n- The number of oil wells for these reserve levels is consistently around 8000.\n- This periodic pattern suggests that specific reserve levels are significantly more common.\n\n**Region 2:**\n- The distribution of oil reserves in Region 2 shows a more complex pattern with multiple peaks.\n- Frequent values are observed around 25, 50, 75, 100, 125, and 150 thousand barrels.\n- The number of oil wells ranges from about 500 to over 3000, similar to Region 0.\n\n**Uniformity and Variability:** Regions 0 and 2 exhibit a more variable distribution with multiple peaks, indicating variability in oil reserves. Region 1 shows a highly regular and periodic distribution, suggesting specific reserve levels are more common.",
      "metadata": {}
    },
    {
      "cell_type": "markdown",
      "source": "---\n### Train and Test the Model for Each Region\n- Data Splitting: Each dataset was split into training and validation sets with a ratio of 75:25.\n- Model Training: A Linear Regression model was trained on the training set.\n- Predictions: Predictions were made on the validation set.\n- Performance Metrics: The average predicted volume and Root Mean Squared Error (RMSE) were calculated for each region\n\n#### Split and Scale the Data",
      "metadata": {}
    },
    {
      "cell_type": "code",
      "source": "# The target column is 'product'\nTARGET_COLUMN = 'product'\n\n# Define a function to split and scale data\ndef split_and_scale_data(data, target_column):\n    features = data.drop(target_column, axis=1).drop('id', axis=1)\n    target = data[target_column]\n    X_train, X_valid, y_train, y_valid = train_test_split(features, target, test_size=0.25, random_state=42)\n    \n    scaler = StandardScaler()\n    X_train_scaled = scaler.fit_transform(X_train)\n    X_valid_scaled = scaler.transform(X_valid)\n    \n    return X_train_scaled, X_valid_scaled, y_train, y_valid\n\n# Split and scale the datasets\nX_train_0, X_valid_0, y_train_0, y_valid_0 = split_and_scale_data(data_region_0, TARGET_COLUMN)\nX_train_1, X_valid_1, y_train_1, y_valid_1 = split_and_scale_data(data_region_1, TARGET_COLUMN)\nX_train_2, X_valid_2, y_train_2, y_valid_2 = split_and_scale_data(data_region_2, TARGET_COLUMN)",
      "metadata": {
        "trusted": true
      },
      "outputs": [],
      "execution_count": null
    },
    {
      "cell_type": "markdown",
      "source": "#### Train the Model and Make Predictions",
      "metadata": {}
    },
    {
      "cell_type": "code",
      "source": "# Define a function to train and predict\ndef train_and_predict(X_train, y_train, X_valid):\n    model = LinearRegression()\n    model.fit(X_train, y_train)\n    predictions = model.predict(X_valid)\n    return predictions, model\n\n# Train and predict for each region\npredictions_0, model_0 = train_and_predict(X_train_0, y_train_0, X_valid_0)\npredictions_1, model_1 = train_and_predict(X_train_1, y_train_1, X_valid_1)\npredictions_2, model_2 = train_and_predict(X_train_2, y_train_2, X_valid_2)",
      "metadata": {
        "trusted": true
      },
      "outputs": [],
      "execution_count": null
    },
    {
      "cell_type": "markdown",
      "source": "#### Save the Predictions and Correct Answers",
      "metadata": {}
    },
    {
      "cell_type": "code",
      "source": "# Save predictions and actual values\nresults_0 = pd.DataFrame({'actual': y_valid_0, 'predicted': predictions_0})\nresults_1 = pd.DataFrame({'actual': y_valid_1, 'predicted': predictions_1})\nresults_2 = pd.DataFrame({'actual': y_valid_2, 'predicted': predictions_2})\n\ndisplay(results_0.head())\ndisplay(results_1.head())\ndisplay(results_2.head())",
      "metadata": {
        "trusted": true
      },
      "outputs": [],
      "execution_count": null
    },
    {
      "cell_type": "markdown",
      "source": "#### Print the Average Volume of Predicted Reserves and Model RMSE",
      "metadata": {}
    },
    {
      "cell_type": "code",
      "source": "# Calculate and print average volume and RMSE for each region\ndef calculate_rmse(actual, predicted):\n    return np.sqrt(mean_squared_error(actual, predicted))\n\navg_predicted_volumes = []\nrmses = []\n\nfor i, (y_valid, predictions) in enumerate([(y_valid_0, predictions_0), (y_valid_1, predictions_1), (y_valid_2, predictions_2)]):\n    avg_predicted = predictions.mean()\n    rmse = calculate_rmse(y_valid, predictions)\n    \n    avg_predicted_volumes.append(avg_predicted)\n    rmses.append(rmse)\n    \n    print(f\"Region {i} - Avg Predicted Volume: {avg_predicted:.2f}, RMSE: {rmse:.2f}\")",
      "metadata": {
        "trusted": true
      },
      "outputs": [],
      "execution_count": null
    },
    {
      "cell_type": "markdown",
      "source": "#### Interpretation of RMSE Results by Region:\n\n**Region 0 :**\n- The RMSE of 37.69 indicates the model's predictions have a relatively large spread around the actual values. This suggests the model has moderate accuracy, but there is still significant variance between predicted and actual values.\n\n**Region 1:**\n- The RMSE of 0.89 is very low, indicating that the model's predictions are very close to the actual values. This high accuracy suggests that the model fits the data for Region 1 very well.\n\n**Region 2:**\n- The RMSE of 40.08 indicates a relatively large spread around the actual values, similar to Region 0. This suggests that the model has moderate accuracy with significant variance between predicted and actual values.\n\n#### General RMSE Observations:\n\n**Model Performance:**\n- The model performs exceptionally well in Region 1 with a very low RMSE, suggesting a strong fit to the data.\n- The model's performance in Regions 0 and 2 is less accurate, with higher RMSE values indicating greater variance in predictions.\n\n**Data Characteristics:**\n- The low RMSE in Region 1 may be attributed to the distinct, discrete nature of the data, as seen in the histogram. This distinct pattern may be easier for the model to learn and predict accurately.\n- Regions 0 and 2 have more continuous distributions with multiple peaks, which might introduce complexity in the data, making it harder for the model to predict accurately.",
      "metadata": {}
    },
    {
      "cell_type": "markdown",
      "source": "#### Prepare for profit calculation:\n- Calculate the sufficient volume of reserves to avoid losses.\n- Compare this with the average volume of reserves in each region.",
      "metadata": {}
    },
    {
      "cell_type": "code",
      "source": "# Key values for profit calculation\nPRICE_PER_UNIT = 4.5 * 1000  # $4500 per thousand barrels\nCOST_PER_WELL = 100000000 / 200  # $500000 per well\nTOP_N_WELLS = 200\n\n# Combine the datasets into a list \ndata_regions = [data_region_0, data_region_1, data_region_2]\n\n# Calculate the volume of reserves sufficient for developing a new well without losses\nvolume_sufficient = COST_PER_WELL / PRICE_PER_UNIT\nprint(f\"Volume of reserves sufficient for developing a new well without losses: {volume_sufficient:.2f}\")\n\n# Compare with the average volume of reserves in each region\nfor i, data_region in enumerate(data_regions):\n    avg_volume = data_region['product'].mean()\n    print(f\"Region {i} - Avg Volume of Reserves: {avg_volume:.2f}\")",
      "metadata": {
        "trusted": true
      },
      "outputs": [],
      "execution_count": null
    },
    {
      "cell_type": "markdown",
      "source": "#### Summary and Interpretaton of Potential Profit and Risks:\n\n**Sufficient Volume to Avoid Losses: 111.11 thousand barrels.** This means that any well producing less than this volume will incur a loss.\n\n**Average Volume of Reserves:**\n\n- Region 0: The average volume of reserves is 92.50 thousand barrels, which is below the sufficient volume to avoid losses.\n- Region 1: The average volume of reserves is 68.82 thousand barrels, significantly below the sufficient volume to avoid losses.\n- Region 2: The average volume of reserves is 95.00 thousand barrels, also below the sufficient volume to avoid losses.\n\n**Implications:**\n- All three regions have average reserve volumes below the threshold needed to avoid losses. This suggests that, on average, wells in these regions are not profitable based on the current cost and revenue structure.\n- Region 1: Has the lowest average volume of reserves, making it the least likely to meet the profitability threshold.\n- Regions 0 and 2: Have closer average volumes to the sufficient volume but are still below the threshold, indicating potential risk in profitability.",
      "metadata": {}
    },
    {
      "cell_type": "markdown",
      "source": "---\n### Calculate Profit from Selected Wells\n- Select the top 200 wells based on model predictions.\n- Calculate the total volume and profit for these wells.\n- Suggest the best region based on expected profit.\n\n#### Define the Profit Function ",
      "metadata": {}
    },
    {
      "cell_type": "code",
      "source": "# Function to calculate profit from selected oil wells\ndef calculate_profit_from_wells(data, top_n, price_per_unit=PRICE_PER_UNIT, cost_per_well=COST_PER_WELL):\n    top_wells = data.nlargest(top_n, 'predicted')\n    \n    # Summarize the target volume of reserves\n    total_volume = top_wells['actual'].sum()\n    \n    # Calculate profit\n    revenue = total_volume * price_per_unit\n    cost = top_n * cost_per_well\n    profit = revenue - cost\n    return total_volume, profit",
      "metadata": {
        "trusted": true
      },
      "outputs": [],
      "execution_count": null
    },
    {
      "cell_type": "markdown",
      "source": "#### Calculate Profit for Each Region",
      "metadata": {}
    },
    {
      "cell_type": "code",
      "source": "# Calculate profit for each region\nprofits = []\ntotal_volumes = []\n\nfor i, result in enumerate([results_0, results_1, results_2]):\n    total_volume, profit = calculate_profit_from_wells(result, TOP_N_WELLS)\n    total_volumes.append(total_volume)\n    profits.append(profit)\n    print(f\"Region {i} - Total Volume: {total_volume:.2f}, Profit: ${profit:.2f}\")\n\n# Provide findings and suggest a region\nbest_region = np.argmax(profits)\nprint(f\"\\nThe best region for oil wells' development is Region {best_region} with an expected profit of ${profits[best_region]:.2f}.\")",
      "metadata": {
        "trusted": true
      },
      "outputs": [],
      "execution_count": null
    },
    {
      "cell_type": "markdown",
      "source": "---\n### Calculate Risks and Profit for Each Region Using Bootstrapping:",
      "metadata": {}
    },
    {
      "cell_type": "markdown",
      "source": "#### Use the bootstrapping technique with 1000 samples to find the distribution of profit",
      "metadata": {}
    },
    {
      "cell_type": "code",
      "source": "# Bootstrapping technique to calculate profits \ndef bootstrap_profit(data, n_samples=1000, sample_size=500, top_n=TOP_N_WELLS, price_per_unit=PRICE_PER_UNIT, cost_per_well=COST_PER_WELL, random_seed=42):\n    np.random.seed(random_seed)  # Set the random seed\n    profits = []\n    for _ in range(n_samples):\n        sample = data.sample(n=sample_size, replace=True)\n        _, profit = calculate_profit_from_wells(sample, top_n, price_per_unit, cost_per_well)\n        profits.append(profit)\n    return np.array(profits)",
      "metadata": {
        "trusted": true
      },
      "outputs": [],
      "execution_count": null
    },
    {
      "cell_type": "markdown",
      "source": "#### Find average profit, 95% confidence interval and risk of losses:",
      "metadata": {}
    },
    {
      "cell_type": "code",
      "source": "# Function to calculate average profit sats\ndef calculate_statistics(profits, confidence_level=0.95):\n    avg_profit = np.mean(profits)\n    lower_percentile = (1 - confidence_level) / 2 * 100\n    upper_percentile = (1 + confidence_level) / 2 * 100\n    conf_interval = np.percentile(profits, [lower_percentile, upper_percentile])\n    risk_of_loss = (profits < 0).mean() * 100  \n    return avg_profit, conf_interval, risk_of_loss\n\n# Process each region\nresults = []\nbootstrap_profits = []\n\nfor data_region in data_regions:\n    # Split and scale data\n    X_train, X_valid, y_train, y_valid = split_and_scale_data(data_region, 'product')\n    # Train and predict\n    predictions, model = train_and_predict(X_train, y_train, X_valid)\n    # Save predictions and actual values\n    result = pd.DataFrame({'actual': y_valid, 'predicted': predictions})\n    results.append(result)\n    # Calculate profits using bootstrapping\n    profits = bootstrap_profit(result)  \n    bootstrap_profits.append(profits)\n\n# Calculate statistics and financial risks for each region and print the results\nregion_stats = []\nfor i, profits in enumerate(bootstrap_profits):\n    avg_profit, conf_interval, risk_of_loss = calculate_statistics(profits)\n    region_stats.append((avg_profit, conf_interval, risk_of_loss))\n    print(f\"Region {i} - Average Profit: ${avg_profit:.2f}, 95% Confidence Interval: (${conf_interval[0]:.2f}, ${conf_interval[1]:.2f}), Risk of Loss: {risk_of_loss:.2f}%\")",
      "metadata": {
        "trusted": true
      },
      "outputs": [],
      "execution_count": null
    },
    {
      "cell_type": "markdown",
      "source": "#### Provide findings: suggest a region for development of oil wells and justify the choice:",
      "metadata": {}
    },
    {
      "cell_type": "code",
      "source": "# Filter regions with risk of loss lower than 2.5%\nfiltered_region_stats = [(i, stats) for i, stats in enumerate(region_stats) if stats[2] < 2.5]\n\n\n# Provide findings and suggest a region\n#best_region = np.argmax([stat[0] for stat in region_stats])\n#print(f\"\\nThe best region for oil wells' development is Region {best_region} with an expected profit of ${region_stats[best_region][0]:.2f}.\")\n\n# Suggest the best region for development\nif filtered_region_stats:\n    best_region = max(filtered_region_stats, key=lambda x: x[1][0])\n    print(f\"\\nThe best region for oil wells' development is Region {best_region[0]} with an expected profit of ${best_region[1][0]:.2f}.\")\nelse:\n    print(\"\\nNo region meets the risk of loss criteria.\")  ",
      "metadata": {
        "trusted": true
      },
      "outputs": [],
      "execution_count": null
    },
    {
      "cell_type": "markdown",
      "source": "#### Suggesting a Region for Development:\n\n**Region 1** is suggested for the development of oil wells based on the following results:\n\n- Risk of Loss: Region 1 has a risk of loss of 1.60%, which is the only region below the threshold of 2.5%.\n- Profit: While Region 1 doesn't have the highest average profit, its risk of loss is lower compared to other regions, making it a safer investment according to the criteria.",
      "metadata": {}
    },
    {
      "cell_type": "markdown",
      "source": "#### Plot Profit Distributions",
      "metadata": {}
    },
    {
      "cell_type": "code",
      "source": "# Plot profit distributions for each region\nfig, axes = plt.subplots(1, 3, figsize=(18, 5), sharey=False)\nfig.suptitle('Profit Distributions for Each Region (in millions USD)', fontsize=18, fontweight='bold')\n\n# Scale profits to millions\nbootstrap_profits_millions = [profits / 1e6 for profits in bootstrap_profits]\n\n# Define colors\ncolors = ['blue', 'green', 'red']\n\n# Titles for each region\ntitles = ['Region 0', 'Region 1', 'Region 2']\n\n# Plot each regions profit distribution\nfor i, ax in enumerate(axes):\n    ax.hist(bootstrap_profits_millions[i], bins=50, color=colors[i], alpha=0.7, edgecolor='black')\n    ax.set_title(titles[i], fontsize=14)\n    ax.set_xlabel('Profit (Millions USD)', fontsize=12)\n    ax.set_ylabel('Frequency (Number of Bootstrap Samples)', fontsize=12)\n    ax.grid(True, linestyle='--', alpha=0.6)\n\n# Adjust layout for better fit\nplt.tight_layout(rect=[0, 0, 1, 0.95])\nplt.show()",
      "metadata": {
        "trusted": true
      },
      "outputs": [],
      "execution_count": null
    },
    {
      "cell_type": "markdown",
      "source": "#### Graph Analysis: Profit Distributions by Region (Bootsrap Sampling)\n- The histograms show that Region 1 has a lower frequency of negative profits compared to Regions 0 and 2, suggesting a relatively lower risk of loss. This aligns with the calculated risk of loss at 1.60%, which is the only risk of loss calculated below the threshold.\n- Regions 0 and 2 show significant variability in profit outcomes with wider distributions and substantial risks of negative profits.",
      "metadata": {}
    },
    {
      "cell_type": "markdown",
      "source": "---\n# Conclusions and Final Recommendations:\n\n**Sufficient Volume to Avoid Losses:**\n- Threshold: 111.11 thousand barrels. Any well producing less than this volume will incur a loss.\n\n#### Total Volume and Profit Analysis\n**Region 0:** \n- Total Volume: 29,930.07 barrels\n- Profit: &dollar;34,685,297.87 \n- Average Profit: &dollar;4,035,720.64 \n- 95% Confidence Interval: -\\\\$1,376,900.03 - \\\\$9,028,483.11\n- Risk of Loss: 5.90%\n\n**Region 1:**\n- Total Volume: 27,589.08 barrels\n- Profit: &dollar;24,150,866.97\n- Average Profit: &dollar;4,302,083.52\n- 95% Confidence Interval: \\\\$430,525.20 - \\\\$8,473,134.67\n- Risk of Loss: 1.60%\n\n**Region 2:**\n- Total Volume: 27,548.03 barrels\n- Profit: &dollar;23,966,130.01\n- Average Profit: &dollar;3,842,144.29\n- 95% Confidence Interval: -\\\\$1,275,898.77 - \\\\$9,101,344.40\n- Risk of Loss: 8.00%\n\n#### Final Recommendations: \n**Region Selection:**\n- Based on the bootstrap samples, Region 1 has the lowest risk of loss at 1.30%, which is below the threshold of 2.5%. This makes it a safer investment compared to Regions 0 and 2, both of which have higher risks of loss at 5.90% and 8.00%, respectively.\n- While Region 1 does not have the highest average profit, it is the safest investment due to its significantly lower risk of loss compared to the other regions.\n- Therefore, **Region 1** is recommended for oil well development based on the combination of its lower risk and consistent profitability. This ensures a strategic balance between minimizing risk and achieving reliable returns.\n---",
      "metadata": {}
    }
  ]
}